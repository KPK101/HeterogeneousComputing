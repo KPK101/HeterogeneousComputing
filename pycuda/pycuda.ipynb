{
 "cells": [
  {
   "cell_type": "markdown",
   "id": "2787e0cc-1847-4a8f-86c0-6e931be42007",
   "metadata": {},
   "source": [
    "# PyCuda \n",
    "\n",
    "reference: https://documen.tician.de/pycuda/tutorial.html"
   ]
  },
  {
   "cell_type": "code",
   "execution_count": 1,
   "id": "c086ca10-aa07-4331-a3fa-8654c5e81b21",
   "metadata": {
    "tags": []
   },
   "outputs": [],
   "source": [
    "import pycuda.driver as cuda\n",
    "import pycuda.autoinit\n",
    "from pycuda.compiler import SourceModule"
   ]
  },
  {
   "cell_type": "code",
   "execution_count": 2,
   "id": "dd080646-8a9e-4049-8bad-bccc5556bc28",
   "metadata": {
    "tags": []
   },
   "outputs": [
    {
     "name": "stdout",
     "output_type": "stream",
     "text": [
      "[[ 1.1402913   0.05243977 -2.6309035  -3.0563636 ]\n",
      " [-1.5327526   2.3234503  -1.917323   -0.46605432]\n",
      " [-1.3096534   0.94649047 -0.4462073   1.7413996 ]\n",
      " [ 0.78382814 -0.80751884  1.209512   -0.7679626 ]]\n",
      "[[ 0.57014567  0.02621988 -1.3154517  -1.5281818 ]\n",
      " [-0.7663763   1.1617252  -0.9586615  -0.23302716]\n",
      " [-0.6548267   0.47324523 -0.22310366  0.8706998 ]\n",
      " [ 0.39191407 -0.40375942  0.604756   -0.3839813 ]]\n"
     ]
    }
   ],
   "source": [
    "import numpy\n",
    "a = numpy.random.randn(4,4)\n",
    "\n",
    "a = a.astype(numpy.float32)\n",
    "\n",
    "a_gpu = cuda.mem_alloc(a.nbytes)\n",
    "\n",
    "cuda.memcpy_htod(a_gpu, a)\n",
    "\n",
    "mod = SourceModule(\"\"\"\n",
    "  __global__ void doublify(float *a)\n",
    "  {\n",
    "    int idx = threadIdx.x + threadIdx.y*4;\n",
    "    a[idx] *= 2;\n",
    "  }\n",
    "  \"\"\")\n",
    "\n",
    "func = mod.get_function(\"doublify\")\n",
    "func(a_gpu, block=(4,4,1))\n",
    "\n",
    "\n",
    "a_doubled = numpy.empty_like(a)\n",
    "cuda.memcpy_dtoh(a_doubled, a_gpu)\n",
    "print(a_doubled)\n",
    "print(a)"
   ]
  },
  {
   "cell_type": "code",
   "execution_count": 5,
   "id": "cd535364-82bb-4db4-a94a-9ca06918e3a6",
   "metadata": {
    "tags": []
   },
   "outputs": [],
   "source": [
    "grid = (1, 1)\n",
    "block = (4, 4, 1)\n",
    "func.prepare(\"P\")\n",
    "func.prepared_call(grid, block, a_gpu)"
   ]
  }
 ],
 "metadata": {
  "kernelspec": {
   "display_name": "Python 3",
   "language": "python",
   "name": "python3"
  },
  "language_info": {
   "codemirror_mode": {
    "name": "ipython",
    "version": 3
   },
   "file_extension": ".py",
   "mimetype": "text/x-python",
   "name": "python",
   "nbconvert_exporter": "python",
   "pygments_lexer": "ipython3",
   "version": "3.10.14"
  }
 },
 "nbformat": 4,
 "nbformat_minor": 5
}
